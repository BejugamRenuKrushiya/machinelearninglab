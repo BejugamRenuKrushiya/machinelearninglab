{
  "nbformat": 4,
  "nbformat_minor": 5,
  "metadata": {
    "kernelspec": {
      "display_name": "Python 3",
      "language": "python",
      "name": "python3"
    },
    "language_info": {
      "codemirror_mode": {
        "name": "ipython",
        "version": 3
      },
      "file_extension": ".py",
      "mimetype": "text/x-python",
      "name": "python",
      "nbconvert_exporter": "python",
      "pygments_lexer": "ipython3",
      "version": "3.6.13"
    },
    "colab": {
      "name": "Renu_Krushiya_3509_(ML_Lab_1)_.ipynb",
      "provenance": [],
      "include_colab_link": true
    }
  },
  "cells": [
    {
      "cell_type": "markdown",
      "metadata": {
        "id": "view-in-github",
        "colab_type": "text"
      },
      "source": [
        "<a href=\"https://colab.research.google.com/github/BejugamRenuKrushiya/machinelearninglab/blob/main/Renu_Krushiya_3509_(ML_Lab_1)_.ipynb\" target=\"_parent\"><img src=\"https://colab.research.google.com/assets/colab-badge.svg\" alt=\"Open In Colab\"/></a>"
      ]
    },
    {
      "cell_type": "code",
      "metadata": {
        "colab": {
          "base_uri": "https://localhost:8080/"
        },
        "id": "detected-herald",
        "outputId": "e21877a1-83f0-40a7-ec17-281bab4bad9f"
      },
      "source": [
        "3+4\n"
      ],
      "id": "detected-herald",
      "execution_count": null,
      "outputs": [
        {
          "output_type": "execute_result",
          "data": {
            "text/plain": [
              "7"
            ]
          },
          "metadata": {},
          "execution_count": 1
        }
      ]
    },
    {
      "cell_type": "code",
      "metadata": {
        "colab": {
          "base_uri": "https://localhost:8080/"
        },
        "id": "solved-bowling",
        "outputId": "4b12d6ba-38c8-474b-c7a5-90140f9236eb"
      },
      "source": [
        "a=7\n",
        "b=5\n",
        "a+b"
      ],
      "id": "solved-bowling",
      "execution_count": null,
      "outputs": [
        {
          "output_type": "execute_result",
          "data": {
            "text/plain": [
              "12"
            ]
          },
          "metadata": {},
          "execution_count": 2
        }
      ]
    },
    {
      "cell_type": "code",
      "metadata": {
        "colab": {
          "base_uri": "https://localhost:8080/"
        },
        "id": "foreign-brunei",
        "outputId": "fbf0e670-e5ea-4924-f170-adf6af4f673c"
      },
      "source": [
        "greetings = 'Hello My name is'\n",
        "name = 'renu'\n",
        "age =19\n",
        "print(greetings + name)\n",
        "print('I am ' + str(age) + 'years old')"
      ],
      "id": "foreign-brunei",
      "execution_count": null,
      "outputs": [
        {
          "output_type": "stream",
          "text": [
            "Hello My name isrenu\n",
            "I am 19years old\n"
          ],
          "name": "stdout"
        }
      ]
    },
    {
      "cell_type": "code",
      "metadata": {
        "colab": {
          "base_uri": "https://localhost:8080/"
        },
        "id": "excess-violation",
        "outputId": "b0675300-131e-4365-8355-95987a7a19ab"
      },
      "source": [
        "numlst = [1,2,3,4,5]\n",
        "numlst"
      ],
      "id": "excess-violation",
      "execution_count": null,
      "outputs": [
        {
          "output_type": "execute_result",
          "data": {
            "text/plain": [
              "[1, 2, 3, 4, 5]"
            ]
          },
          "metadata": {},
          "execution_count": 5
        }
      ]
    },
    {
      "cell_type": "code",
      "metadata": {
        "colab": {
          "base_uri": "https://localhost:8080/"
        },
        "id": "developmental-indication",
        "outputId": "6189fb1d-d191-444a-807e-1fcee9cf59e8"
      },
      "source": [
        "import numpy as np\n",
        "np.mean(numlst)\n",
        "np.sqrt(25)"
      ],
      "id": "developmental-indication",
      "execution_count": null,
      "outputs": [
        {
          "output_type": "execute_result",
          "data": {
            "text/plain": [
              "5.0"
            ]
          },
          "metadata": {},
          "execution_count": 6
        }
      ]
    },
    {
      "cell_type": "code",
      "metadata": {
        "colab": {
          "base_uri": "https://localhost:8080/"
        },
        "id": "particular-salon",
        "outputId": "115df1f8-fb2a-4e22-a045-950e5289b038"
      },
      "source": [
        "np.linspace(1,10,7)"
      ],
      "id": "particular-salon",
      "execution_count": null,
      "outputs": [
        {
          "output_type": "execute_result",
          "data": {
            "text/plain": [
              "array([ 1. ,  2.5,  4. ,  5.5,  7. ,  8.5, 10. ])"
            ]
          },
          "metadata": {},
          "execution_count": 7
        }
      ]
    },
    {
      "cell_type": "code",
      "metadata": {
        "colab": {
          "base_uri": "https://localhost:8080/"
        },
        "id": "ideal-elevation",
        "outputId": "991f80a5-2ba2-4080-b41b-21bc7e2b7606"
      },
      "source": [
        "np.linspace(1,2,7)"
      ],
      "id": "ideal-elevation",
      "execution_count": null,
      "outputs": [
        {
          "output_type": "execute_result",
          "data": {
            "text/plain": [
              "array([1.        , 1.16666667, 1.33333333, 1.5       , 1.66666667,\n",
              "       1.83333333, 2.        ])"
            ]
          },
          "metadata": {},
          "execution_count": 8
        }
      ]
    },
    {
      "cell_type": "code",
      "metadata": {
        "id": "harmful-pasta"
      },
      "source": [
        "import matplotlib.pyplot as plt\n",
        "import numpy as np"
      ],
      "id": "harmful-pasta",
      "execution_count": null,
      "outputs": []
    },
    {
      "cell_type": "code",
      "metadata": {
        "colab": {
          "base_uri": "https://localhost:8080/",
          "height": 282
        },
        "id": "respiratory-resident",
        "outputId": "54ef1cca-9a4c-4a69-aa6e-54a0fcd2a77e"
      },
      "source": [
        "plt.plot(1,3)"
      ],
      "id": "respiratory-resident",
      "execution_count": null,
      "outputs": [
        {
          "output_type": "execute_result",
          "data": {
            "text/plain": [
              "[<matplotlib.lines.Line2D at 0x7f61cec24dd0>]"
            ]
          },
          "metadata": {},
          "execution_count": 11
        },
        {
          "output_type": "display_data",
          "data": {
            "image/png": "[encoded data removed]",
            "text/plain": [
              "<Figure size 432x288 with 1 Axes>"
            ]
          },
          "metadata": {
            "needs_background": "light"
          }
        }
      ]
    },
    {
      "cell_type": "code",
      "metadata": {
        "colab": {
          "base_uri": "https://localhost:8080/",
          "height": 282
        },
        "id": "fundamental-inspiration",
        "outputId": "8f174bd6-0e9f-48c0-a58e-0d515b2084be"
      },
      "source": [
        "plt.plot(1,2,'ro')"
      ],
      "id": "fundamental-inspiration",
      "execution_count": null,
      "outputs": [
        {
          "output_type": "execute_result",
          "data": {
            "text/plain": [
              "[<matplotlib.lines.Line2D at 0x7f61c9bf6ad0>]"
            ]
          },
          "metadata": {},
          "execution_count": 12
        },
        {
          "output_type": "display_data",
          "data": {
            "image/png": "[encoded data removed]",
            "text/plain": [
              "<Figure size 432x288 with 1 Axes>"
            ]
          },
          "metadata": {
            "needs_background": "light"
          }
        }
      ]
    },
    {
      "cell_type": "code",
      "metadata": {
        "colab": {
          "base_uri": "https://localhost:8080/",
          "height": 298
        },
        "id": "prime-calcium",
        "outputId": "d6afbf65-840e-4371-a1e6-d4a3d8212879"
      },
      "source": [
        "x=np.arange(-9,10)\n",
        "print(x)\n",
        "\n",
        "y=x**2\n",
        "plt.plot(x,y,'r')\n",
        "plt.plot(x,y/2,'gs')"
      ],
      "id": "prime-calcium",
      "execution_count": null,
      "outputs": [
        {
          "output_type": "stream",
          "text": [
            "[-9 -8 -7 -6 -5 -4 -3 -2 -1  0  1  2  3  4  5  6  7  8  9]\n"
          ],
          "name": "stdout"
        },
        {
          "output_type": "execute_result",
          "data": {
            "text/plain": [
              "[<matplotlib.lines.Line2D at 0x7f61c9ae8f50>]"
            ]
          },
          "metadata": {},
          "execution_count": 14
        },
        {
          "output_type": "display_data",
          "data": {
            "image/png": "[encoded data removed]",
            "text/plain": [
              "<Figure size 432x288 with 1 Axes>"
            ]
          },
          "metadata": {
            "needs_background": "light"
          }
        }
      ]
    },
    {
      "cell_type": "code",
      "metadata": {
        "colab": {
          "base_uri": "https://localhost:8080/",
          "height": 282
        },
        "id": "peaceful-paradise",
        "outputId": "a56c9090-00fc-4dd3-e961-76d38dd1be4e"
      },
      "source": [
        "plt.plot([0,3],[-1,1],label='first line')\n",
        "plt.plot([-2,0],[-4,1],label='second line')\n",
        "plt.legend()"
      ],
      "id": "peaceful-paradise",
      "execution_count": null,
      "outputs": [
        {
          "output_type": "execute_result",
          "data": {
            "text/plain": [
              "<matplotlib.legend.Legend at 0x7f61c9a65750>"
            ]
          },
          "metadata": {},
          "execution_count": 15
        },
        {
          "output_type": "display_data",
          "data": {
            "image/png": "[encoded data removed]",
            "text/plain": [
              "<Figure size 432x288 with 1 Axes>"
            ]
          },
          "metadata": {
            "needs_background": "light"
          }
        }
      ]
    },
    {
      "cell_type": "code",
      "metadata": {
        "colab": {
          "base_uri": "https://localhost:8080/"
        },
        "id": "toxic-seeker",
        "outputId": "7c8c0414-5666-49bb-a6ff-e0ed6ce8a6e6"
      },
      "source": [
        "M = np.random.randint(0,10,size=(4,5))\n",
        "M"
      ],
      "id": "toxic-seeker",
      "execution_count": null,
      "outputs": [
        {
          "output_type": "execute_result",
          "data": {
            "text/plain": [
              "array([[1, 7, 8, 9, 0],\n",
              "       [9, 3, 7, 9, 5],\n",
              "       [1, 0, 5, 4, 5],\n",
              "       [7, 4, 7, 0, 1]])"
            ]
          },
          "metadata": {},
          "execution_count": 17
        }
      ]
    },
    {
      "cell_type": "code",
      "metadata": {
        "colab": {
          "base_uri": "https://localhost:8080/",
          "height": 269
        },
        "id": "elegant-protest",
        "outputId": "bc47de06-83eb-4aa6-faa2-9d10c65e5a4e"
      },
      "source": [
        "plt.imshow(M)\n",
        "plt.show()"
      ],
      "id": "elegant-protest",
      "execution_count": null,
      "outputs": [
        {
          "output_type": "display_data",
          "data": {
            "image/png": "[encoded data removed]",
            "text/plain": [
              "<Figure size 432x288 with 1 Axes>"
            ]
          },
          "metadata": {
            "needs_background": "light"
          }
        }
      ]
    },
    {
      "cell_type": "code",
      "metadata": {
        "colab": {
          "base_uri": "https://localhost:8080/"
        },
        "id": "middle-setting",
        "outputId": "603ef139-a0b8-4f0f-85b5-090aebdd51a9"
      },
      "source": [
        "vec = [3,4,5,2]\n",
        "s=3\n",
        "\n",
        "vec*s"
      ],
      "id": "middle-setting",
      "execution_count": null,
      "outputs": [
        {
          "output_type": "execute_result",
          "data": {
            "text/plain": [
              "[3, 4, 5, 2, 3, 4, 5, 2, 3, 4, 5, 2]"
            ]
          },
          "metadata": {},
          "execution_count": 19
        }
      ]
    },
    {
      "cell_type": "code",
      "metadata": {
        "colab": {
          "base_uri": "https://localhost:8080/"
        },
        "id": "superior-protest",
        "outputId": "8afe6f89-2fd0-4a51-97de-62c21c580c45"
      },
      "source": [
        "vec = np.array([3,4,5,2])\n",
        "s=2\n",
        "vec*s"
      ],
      "id": "superior-protest",
      "execution_count": null,
      "outputs": [
        {
          "output_type": "execute_result",
          "data": {
            "text/plain": [
              "array([ 6,  8, 10,  4])"
            ]
          },
          "metadata": {},
          "execution_count": 20
        }
      ]
    },
    {
      "cell_type": "code",
      "metadata": {
        "colab": {
          "base_uri": "https://localhost:8080/"
        },
        "id": "higher-mileage",
        "outputId": "527901dd-c75c-4047-dc73-007d9e88a908"
      },
      "source": [
        "vec2 = np.array([1,2])\n",
        "s1=2\n",
        "s2=.5\n",
        "s3=-1\n",
        "vec2[0]"
      ],
      "id": "higher-mileage",
      "execution_count": null,
      "outputs": [
        {
          "output_type": "execute_result",
          "data": {
            "text/plain": [
              "1"
            ]
          },
          "metadata": {},
          "execution_count": 21
        }
      ]
    },
    {
      "cell_type": "code",
      "metadata": {
        "colab": {
          "base_uri": "https://localhost:8080/",
          "height": 282
        },
        "id": "single-basin",
        "outputId": "77321bca-d751-465d-af44-615e2671a96f"
      },
      "source": [
        "plt.plot([0,vec2[0]],[0,vec2[1]],'gs')"
      ],
      "id": "single-basin",
      "execution_count": null,
      "outputs": [
        {
          "output_type": "execute_result",
          "data": {
            "text/plain": [
              "[<matplotlib.lines.Line2D at 0x7f61c9963850>]"
            ]
          },
          "metadata": {},
          "execution_count": 22
        },
        {
          "output_type": "display_data",
          "data": {
            "image/png": "[encoded data removed]",
            "text/plain": [
              "<Figure size 432x288 with 1 Axes>"
            ]
          },
          "metadata": {
            "needs_background": "light"
          }
        }
      ]
    },
    {
      "cell_type": "code",
      "metadata": {
        "colab": {
          "base_uri": "https://localhost:8080/",
          "height": 282
        },
        "id": "metropolitan-philip",
        "outputId": "3ca1d8b2-5975-4c93-ab72-a777639def88"
      },
      "source": [
        "plt.plot([0,vec2[0]],[0,vec2[1]],'bs-')"
      ],
      "id": "metropolitan-philip",
      "execution_count": null,
      "outputs": [
        {
          "output_type": "execute_result",
          "data": {
            "text/plain": [
              "[<matplotlib.lines.Line2D at 0x7f61c9c3bad0>]"
            ]
          },
          "metadata": {},
          "execution_count": 28
        },
        {
          "output_type": "display_data",
          "data": {
            "image/png": "[encoded data removed]",
            "text/plain": [
              "<Figure size 432x288 with 1 Axes>"
            ]
          },
          "metadata": {
            "needs_background": "light"
          }
        }
      ]
    },
    {
      "cell_type": "code",
      "metadata": {
        "colab": {
          "base_uri": "https://localhost:8080/",
          "height": 282
        },
        "id": "native-milwaukee",
        "outputId": "b8707d06-5d07-4a27-9147-d8ea81fa3b01"
      },
      "source": [
        "plt.plot([0,vec2[0]],[0,vec2[1]],'bs--')"
      ],
      "id": "native-milwaukee",
      "execution_count": null,
      "outputs": [
        {
          "output_type": "execute_result",
          "data": {
            "text/plain": [
              "[<matplotlib.lines.Line2D at 0x7f61c975a790>]"
            ]
          },
          "metadata": {},
          "execution_count": 27
        },
        {
          "output_type": "display_data",
          "data": {
            "image/png": "[encoded data removed]",
            "text/plain": [
              "<Figure size 432x288 with 1 Axes>"
            ]
          },
          "metadata": {
            "needs_background": "light"
          }
        }
      ]
    },
    {
      "cell_type": "code",
      "metadata": {
        "colab": {
          "base_uri": "https://localhost:8080/",
          "height": 269
        },
        "id": "european-helena",
        "outputId": "012f2957-b15a-4ef5-cc25-f293a13ece59"
      },
      "source": [
        "plt.plot([0,vec2[0]],[0,vec2[1]],'gs-',label='v')\n",
        "plt.plot([0,s1*vec2[0]],[0,s1*vec2[1]],'ro-',label='v*s1')\n",
        "plt.plot([0,s2*vec2[0]],[0,s2*vec2[1]],'bo-',label='v*s2')\n",
        "plt.plot([0,s3*vec2[0]],[0,s3*vec2[1]],'k*-',label='v*s3')\n",
        "\n",
        "plt.axis('square')\n",
        "plt.xlim([-4,4])\n",
        "plt.ylim([-4,4])\n",
        "plt.grid()\n",
        "plt.legend()\n",
        "plt.show()\n"
      ],
      "id": "european-helena",
      "execution_count": null,
      "outputs": [
        {
          "output_type": "display_data",
          "data": {
            "image/png": "[encoded data removed]",
            "text/plain": [
              "<Figure size 432x288 with 1 Axes>"
            ]
          },
          "metadata": {
            "needs_background": "light"
          }
        }
      ]
    },
    {
      "cell_type": "code",
      "metadata": {
        "colab": {
          "base_uri": "https://localhost:8080/"
        },
        "id": "graphic-wholesale",
        "outputId": "ab3722a8-96a0-4e4f-bf59-d3345905cfeb"
      },
      "source": [
        "v1 = np.array([5,6,2])\n",
        "v2 = np.array([3,0,5])\n",
        "\n",
        "np.dot(v1,v2)"
      ],
      "id": "graphic-wholesale",
      "execution_count": null,
      "outputs": [
        {
          "output_type": "execute_result",
          "data": {
            "text/plain": [
              "25"
            ]
          },
          "metadata": {},
          "execution_count": 26
        }
      ]
    },
    {
      "cell_type": "code",
      "metadata": {
        "colab": {
          "base_uri": "https://localhost:8080/"
        },
        "id": "fitted-jefferson",
        "outputId": "0a30fbae-2d49-4b83-f62b-e8165ce75153"
      },
      "source": [
        "v3 = np.array([-4,3,1])\n",
        "\n",
        "np.dot(v2,v3)"
      ],
      "id": "fitted-jefferson",
      "execution_count": null,
      "outputs": [
        {
          "output_type": "execute_result",
          "data": {
            "text/plain": [
              "-7"
            ]
          },
          "metadata": {},
          "execution_count": 29
        }
      ]
    },
    {
      "cell_type": "code",
      "metadata": {
        "colab": {
          "base_uri": "https://localhost:8080/"
        },
        "id": "persistent-liberty",
        "outputId": "e6dfdd98-1fc9-4191-b70f-676b3d0932b7"
      },
      "source": [
        "v4 = np.array([2,3,-1])\n",
        "np.dot(v3,v4)"
      ],
      "id": "persistent-liberty",
      "execution_count": null,
      "outputs": [
        {
          "output_type": "execute_result",
          "data": {
            "text/plain": [
              "0"
            ]
          },
          "metadata": {},
          "execution_count": 30
        }
      ]
    },
    {
      "cell_type": "code",
      "metadata": {
        "colab": {
          "base_uri": "https://localhost:8080/"
        },
        "id": "phantom-delivery",
        "outputId": "2255d010-4f52-4ccb-de26-2633427ee4e8"
      },
      "source": [
        "np.eye(3)"
      ],
      "id": "phantom-delivery",
      "execution_count": null,
      "outputs": [
        {
          "output_type": "execute_result",
          "data": {
            "text/plain": [
              "array([[1., 0., 0.],\n",
              "       [0., 1., 0.],\n",
              "       [0., 0., 1.]])"
            ]
          },
          "metadata": {},
          "execution_count": 31
        }
      ]
    },
    {
      "cell_type": "code",
      "metadata": {
        "colab": {
          "base_uri": "https://localhost:8080/"
        },
        "id": "skilled-screen",
        "outputId": "21d3d105-a758-428a-b00f-5f0e5a9544a6"
      },
      "source": [
        "np.zeros((3,4))"
      ],
      "id": "skilled-screen",
      "execution_count": null,
      "outputs": [
        {
          "output_type": "execute_result",
          "data": {
            "text/plain": [
              "array([[0., 0., 0., 0.],\n",
              "       [0., 0., 0., 0.],\n",
              "       [0., 0., 0., 0.]])"
            ]
          },
          "metadata": {},
          "execution_count": 32
        }
      ]
    },
    {
      "cell_type": "code",
      "metadata": {
        "colab": {
          "base_uri": "https://localhost:8080/"
        },
        "id": "digital-distinction",
        "outputId": "3b2c86b0-1523-424f-df30-068eac999ab3"
      },
      "source": [
        "np.full((5,3),6)"
      ],
      "id": "digital-distinction",
      "execution_count": null,
      "outputs": [
        {
          "output_type": "execute_result",
          "data": {
            "text/plain": [
              "array([[6, 6, 6],\n",
              "       [6, 6, 6],\n",
              "       [6, 6, 6],\n",
              "       [6, 6, 6],\n",
              "       [6, 6, 6]])"
            ]
          },
          "metadata": {},
          "execution_count": 33
        }
      ]
    },
    {
      "cell_type": "code",
      "metadata": {
        "colab": {
          "base_uri": "https://localhost:8080/"
        },
        "id": "compressed-generator",
        "outputId": "df5e7e04-fb88-464b-859c-278b64d57de8"
      },
      "source": [
        "M = np.array([[1,2,3],[4,5,6],[7,8,9]])\n",
        "print(M)"
      ],
      "id": "compressed-generator",
      "execution_count": null,
      "outputs": [
        {
          "output_type": "stream",
          "text": [
            "[[1 2 3]\n",
            " [4 5 6]\n",
            " [7 8 9]]\n"
          ],
          "name": "stdout"
        }
      ]
    },
    {
      "cell_type": "code",
      "metadata": {
        "colab": {
          "base_uri": "https://localhost:8080/"
        },
        "id": "greater-wireless",
        "outputId": "acd430d9-bcb0-46ce-c9fd-f26d32b05408"
      },
      "source": [
        "v1 = np.array([5,6,2])\n",
        "v2 = np.array([3,0,5])\n",
        "print(v1.T)\n",
        "print(v2.T)"
      ],
      "id": "greater-wireless",
      "execution_count": null,
      "outputs": [
        {
          "output_type": "stream",
          "text": [
            "[5 6 2]\n",
            "[3 0 5]\n"
          ],
          "name": "stdout"
        }
      ]
    },
    {
      "cell_type": "code",
      "metadata": {
        "colab": {
          "base_uri": "https://localhost:8080/"
        },
        "id": "experienced-enough",
        "outputId": "9cae7ca5-0aca-4f0a-daa9-14d7d9b6aa3f"
      },
      "source": [
        "v1 = np.array([5,6,2],ndmin=2)\n",
        "print(v1.T)"
      ],
      "id": "experienced-enough",
      "execution_count": null,
      "outputs": [
        {
          "output_type": "stream",
          "text": [
            "[[5]\n",
            " [6]\n",
            " [2]]\n"
          ],
          "name": "stdout"
        }
      ]
    },
    {
      "cell_type": "code",
      "metadata": {
        "colab": {
          "base_uri": "https://localhost:8080/"
        },
        "id": "laden-companion",
        "outputId": "19cab8cd-3246-47c5-910f-d8a9419d90a2"
      },
      "source": [
        "M = np.round( np.random.rand(2,2) )\n",
        "print(M)\n",
        "print(' ')\n",
        "print(M.T)"
      ],
      "id": "laden-companion",
      "execution_count": null,
      "outputs": [
        {
          "output_type": "stream",
          "text": [
            "[[0. 0.]\n",
            " [0. 1.]]\n",
            " \n",
            "[[0. 0.]\n",
            " [0. 1.]]\n"
          ],
          "name": "stdout"
        }
      ]
    },
    {
      "cell_type": "code",
      "metadata": {
        "colab": {
          "base_uri": "https://localhost:8080/"
        },
        "id": "joined-muslim",
        "outputId": "38e248bd-dc24-4f33-ca81-148c7bb3ab00"
      },
      "source": [
        "m1 = np.random.rand(4,5)\n",
        "m2= np.random.rand(4,5)\n",
        "print( np.matmul(m1,m2.T) )\n",
        "\n",
        "print(m1@m2.T)"
      ],
      "id": "joined-muslim",
      "execution_count": null,
      "outputs": [
        {
          "output_type": "stream",
          "text": [
            "[[1.35907571 1.70701223 1.94849561 1.54140147]\n",
            " [1.60844809 1.33226075 1.27301667 1.36963743]\n",
            " [1.42329678 1.40413089 1.57772317 1.58198996]\n",
            " [1.3711877  1.39716202 1.65361276 1.38945965]]\n",
            "[[1.35907571 1.70701223 1.94849561 1.54140147]\n",
            " [1.60844809 1.33226075 1.27301667 1.36963743]\n",
            " [1.42329678 1.40413089 1.57772317 1.58198996]\n",
            " [1.3711877  1.39716202 1.65361276 1.38945965]]\n"
          ],
          "name": "stdout"
        }
      ]
    },
    {
      "cell_type": "code",
      "metadata": {
        "colab": {
          "base_uri": "https://localhost:8080/"
        },
        "id": "wrong-strike",
        "outputId": "5c2cd17e-e5bf-4cbb-daf4-9b6c3a2f30ab"
      },
      "source": [
        "A = np.random.rand(4,4)\n",
        "Ainv = np.linalg.inv(A)\n",
        "\n",
        "AinvA = A@Ainv\n",
        "print(A)\n",
        "print(' ')\n",
        "print(Ainv)\n",
        "print(' ')\n",
        "print(AinvA)"
      ],
      "id": "wrong-strike",
      "execution_count": null,
      "outputs": [
        {
          "output_type": "stream",
          "text": [
            "[[0.23466285 0.16404692 0.54557434 0.46407126]\n",
            " [0.56465369 0.03204747 0.17169054 0.70587738]\n",
            " [0.30043544 0.99835915 0.29888968 0.0869952 ]\n",
            " [0.37604097 0.95982038 0.538612   0.52400902]]\n",
            " \n",
            "[[ 1.94792188  1.95425838  4.52958169 -5.10963201]\n",
            " [-1.39841818 -0.35860621 -0.49041278  1.80294849]\n",
            " [ 3.38793932 -0.78412122  1.59161449 -2.20838694]\n",
            " [-2.31876342  0.06040627 -3.98821914  4.54264701]]\n",
            " \n",
            "[[ 1.00000000e+00  3.16295842e-17  3.25312018e-16 -8.10955764e-17]\n",
            " [ 8.31631468e-17  1.00000000e+00  1.75899962e-16  1.95852446e-17]\n",
            " [ 1.71450404e-16  1.60961225e-16  1.00000000e+00 -1.29086949e-16]\n",
            " [-8.89929472e-17  1.80656460e-16  6.38194083e-16  1.00000000e+00]]\n"
          ],
          "name": "stdout"
        }
      ]
    },
    {
      "cell_type": "code",
      "metadata": {
        "colab": {
          "base_uri": "https://localhost:8080/",
          "height": 166
        },
        "id": "banned-programming",
        "outputId": "40aa90fc-c6f7-4d40-82bb-e28f5650d573"
      },
      "source": [
        "fig,ax = plt.subplots(1,3,figsize=(6,5))\n",
        "ax[0].imshow(A)\n",
        "ax[0].set_title('A')\n",
        "ax[1].imshow(Ainv)\n",
        "ax[1].set_title('A$^{-1}$')\n",
        "ax[2].imshow(AinvA)\n",
        "ax[2].set_title('A$^{-1}$A')\n",
        "plt.show()"
      ],
      "id": "banned-programming",
      "execution_count": null,
      "outputs": [
        {
          "output_type": "display_data",
          "data": {
            "image/png": "[encoded data removed]",
            "text/plain": [
              "<Figure size 432x360 with 3 Axes>"
            ]
          },
          "metadata": {
            "needs_background": "light"
          }
        }
      ]
    },
    {
      "cell_type": "code",
      "metadata": {
        "id": "cheap-stereo"
      },
      "source": [
        ""
      ],
      "id": "cheap-stereo",
      "execution_count": null,
      "outputs": []
    }
  ]
}